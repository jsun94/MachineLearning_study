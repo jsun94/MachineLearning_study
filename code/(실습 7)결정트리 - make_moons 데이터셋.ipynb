{
 "cells": [
  {
   "cell_type": "markdown",
   "metadata": {},
   "source": [
    "# 실습 - moons 데이터셋에 결정 트리를 훈련시키고 세밀하게 튜닝해보기"
   ]
  },
  {
   "cell_type": "markdown",
   "metadata": {},
   "source": [
    "##  `make_moons(n_samples=1000, noise=0.4, random_state=42)`를 사용해 데이터셋을 생성"
   ]
  },
  {
   "cell_type": "code",
   "execution_count": 1,
   "metadata": {},
   "outputs": [],
   "source": [
    "from sklearn.datasets import make_moons\n",
    "\n",
    "X, y = make_moons(n_samples=10000, noise=0.4, random_state=42)"
   ]
  },
  {
   "cell_type": "code",
   "execution_count": 18,
   "metadata": {},
   "outputs": [
    {
     "data": {
      "text/plain": [
       "function"
      ]
     },
     "execution_count": 18,
     "metadata": {},
     "output_type": "execute_result"
    }
   ],
   "source": [
    "type(make_moons)"
   ]
  },
  {
   "cell_type": "markdown",
   "metadata": {},
   "source": [
    "## train_test_split()`을 사용해 훈련 세트와 테스트 세트로 나누기"
   ]
  },
  {
   "cell_type": "code",
   "execution_count": 3,
   "metadata": {},
   "outputs": [],
   "source": [
    "from sklearn.model_selection import train_test_split\n",
    "\n",
    "X_train, X_test, y_train, y_test = train_test_split(X,y,test_size = 0.3, random_state = 42)"
   ]
  },
  {
   "cell_type": "markdown",
   "metadata": {},
   "source": [
    "## `DecisionTreeClassifier`의 최적의 매개변수를 찾기 위해 교차 검증과 함께 그리드 탐색 수행\n",
    "* 힌트: 여러 가지 `max_leaf_nodes` 값을 시도"
   ]
  },
  {
   "cell_type": "code",
   "execution_count": 22,
   "metadata": {
    "scrolled": true
   },
   "outputs": [
    {
     "name": "stdout",
     "output_type": "stream",
     "text": [
      "Fitting 5 folds for each of 36 candidates, totalling 180 fits\n",
      "[CV] max_depth=2, max_leaf_nodes=2, min_samples_split=2 ..............\n",
      "[CV]  max_depth=2, max_leaf_nodes=2, min_samples_split=2, total=   0.0s\n",
      "[CV] max_depth=2, max_leaf_nodes=2, min_samples_split=2 ..............\n",
      "[CV]  max_depth=2, max_leaf_nodes=2, min_samples_split=2, total=   0.0s\n",
      "[CV] max_depth=2, max_leaf_nodes=2, min_samples_split=2 ..............\n",
      "[CV]  max_depth=2, max_leaf_nodes=2, min_samples_split=2, total=   0.0s\n",
      "[CV] max_depth=2, max_leaf_nodes=2, min_samples_split=2 ..............\n",
      "[CV]  max_depth=2, max_leaf_nodes=2, min_samples_split=2, total=   0.0s\n",
      "[CV] max_depth=2, max_leaf_nodes=2, min_samples_split=2 ..............\n",
      "[CV]  max_depth=2, max_leaf_nodes=2, min_samples_split=2, total=   0.0s\n",
      "[CV] max_depth=2, max_leaf_nodes=2, min_samples_split=3 ..............\n",
      "[CV]  max_depth=2, max_leaf_nodes=2, min_samples_split=3, total=   0.0s\n",
      "[CV] max_depth=2, max_leaf_nodes=2, min_samples_split=3 ..............\n",
      "[CV]  max_depth=2, max_leaf_nodes=2, min_samples_split=3, total=   0.0s\n",
      "[CV] max_depth=2, max_leaf_nodes=2, min_samples_split=3 ..............\n",
      "[CV]  max_depth=2, max_leaf_nodes=2, min_samples_split=3, total=   0.0s\n",
      "[CV] max_depth=2, max_leaf_nodes=2, min_samples_split=3 ..............\n",
      "[CV]  max_depth=2, max_leaf_nodes=2, min_samples_split=3, total=   0.0s\n",
      "[CV] max_depth=2, max_leaf_nodes=2, min_samples_split=3 ..............\n",
      "[CV]  max_depth=2, max_leaf_nodes=2, min_samples_split=3, total=   0.0s\n",
      "[CV] max_depth=2, max_leaf_nodes=2, min_samples_split=4 ..............\n",
      "[CV]  max_depth=2, max_leaf_nodes=2, min_samples_split=4, total=   0.0s\n",
      "[CV] max_depth=2, max_leaf_nodes=2, min_samples_split=4 ..............\n",
      "[CV]  max_depth=2, max_leaf_nodes=2, min_samples_split=4, total=   0.0s\n",
      "[CV] max_depth=2, max_leaf_nodes=2, min_samples_split=4 ..............\n",
      "[CV]  max_depth=2, max_leaf_nodes=2, min_samples_split=4, total=   0.0s\n",
      "[CV] max_depth=2, max_leaf_nodes=2, min_samples_split=4 ..............\n",
      "[CV]  max_depth=2, max_leaf_nodes=2, min_samples_split=4, total=   0.0s\n",
      "[CV] max_depth=2, max_leaf_nodes=2, min_samples_split=4 ..............\n",
      "[CV]  max_depth=2, max_leaf_nodes=2, min_samples_split=4, total=   0.0s\n",
      "[CV] max_depth=2, max_leaf_nodes=3, min_samples_split=2 ..............\n",
      "[CV]  max_depth=2, max_leaf_nodes=3, min_samples_split=2, total=   0.0s\n",
      "[CV] max_depth=2, max_leaf_nodes=3, min_samples_split=2 ..............\n",
      "[CV]  max_depth=2, max_leaf_nodes=3, min_samples_split=2, total=   0.0s\n",
      "[CV] max_depth=2, max_leaf_nodes=3, min_samples_split=2 ..............\n",
      "[CV]  max_depth=2, max_leaf_nodes=3, min_samples_split=2, total=   0.0s\n",
      "[CV] max_depth=2, max_leaf_nodes=3, min_samples_split=2 ..............\n",
      "[CV]  max_depth=2, max_leaf_nodes=3, min_samples_split=2, total=   0.0s\n",
      "[CV] max_depth=2, max_leaf_nodes=3, min_samples_split=2 ..............\n",
      "[CV]  max_depth=2, max_leaf_nodes=3, min_samples_split=2, total=   0.0s\n",
      "[CV] max_depth=2, max_leaf_nodes=3, min_samples_split=3 ..............\n",
      "[CV]  max_depth=2, max_leaf_nodes=3, min_samples_split=3, total=   0.0s\n",
      "[CV] max_depth=2, max_leaf_nodes=3, min_samples_split=3 ..............\n",
      "[CV]  max_depth=2, max_leaf_nodes=3, min_samples_split=3, total=   0.0s\n",
      "[CV] max_depth=2, max_leaf_nodes=3, min_samples_split=3 ..............\n",
      "[CV]  max_depth=2, max_leaf_nodes=3, min_samples_split=3, total=   0.0s\n",
      "[CV] max_depth=2, max_leaf_nodes=3, min_samples_split=3 ..............\n",
      "[CV]  max_depth=2, max_leaf_nodes=3, min_samples_split=3, total=   0.0s\n",
      "[CV] max_depth=2, max_leaf_nodes=3, min_samples_split=3 ..............\n",
      "[CV]  max_depth=2, max_leaf_nodes=3, min_samples_split=3, total=   0.0s\n",
      "[CV] max_depth=2, max_leaf_nodes=3, min_samples_split=4 ..............\n",
      "[CV]  max_depth=2, max_leaf_nodes=3, min_samples_split=4, total=   0.0s\n",
      "[CV] max_depth=2, max_leaf_nodes=3, min_samples_split=4 ..............\n",
      "[CV]  max_depth=2, max_leaf_nodes=3, min_samples_split=4, total=   0.0s\n",
      "[CV] max_depth=2, max_leaf_nodes=3, min_samples_split=4 ..............\n",
      "[CV]  max_depth=2, max_leaf_nodes=3, min_samples_split=4, total=   0.0s\n",
      "[CV] max_depth=2, max_leaf_nodes=3, min_samples_split=4 ..............\n",
      "[CV]  max_depth=2, max_leaf_nodes=3, min_samples_split=4, total=   0.0s\n",
      "[CV] max_depth=2, max_leaf_nodes=3, min_samples_split=4 ..............\n",
      "[CV]  max_depth=2, max_leaf_nodes=3, min_samples_split=4, total=   0.0s\n",
      "[CV] max_depth=2, max_leaf_nodes=4, min_samples_split=2 ..............\n",
      "[CV]  max_depth=2, max_leaf_nodes=4, min_samples_split=2, total=   0.0s\n",
      "[CV] max_depth=2, max_leaf_nodes=4, min_samples_split=2 ..............\n",
      "[CV]  max_depth=2, max_leaf_nodes=4, min_samples_split=2, total=   0.0s\n",
      "[CV] max_depth=2, max_leaf_nodes=4, min_samples_split=2 ..............\n",
      "[CV]  max_depth=2, max_leaf_nodes=4, min_samples_split=2, total=   0.0s\n",
      "[CV] max_depth=2, max_leaf_nodes=4, min_samples_split=2 ..............\n",
      "[CV]  max_depth=2, max_leaf_nodes=4, min_samples_split=2, total=   0.0s\n",
      "[CV] max_depth=2, max_leaf_nodes=4, min_samples_split=2 ..............\n",
      "[CV]  max_depth=2, max_leaf_nodes=4, min_samples_split=2, total=   0.0s\n",
      "[CV] max_depth=2, max_leaf_nodes=4, min_samples_split=3 ..............\n",
      "[CV]  max_depth=2, max_leaf_nodes=4, min_samples_split=3, total=   0.0s\n",
      "[CV] max_depth=2, max_leaf_nodes=4, min_samples_split=3 ..............\n"
     ]
    },
    {
     "name": "stderr",
     "output_type": "stream",
     "text": [
      "[Parallel(n_jobs=1)]: Using backend SequentialBackend with 1 concurrent workers.\n",
      "[Parallel(n_jobs=1)]: Done   1 out of   1 | elapsed:    0.0s remaining:    0.0s\n"
     ]
    },
    {
     "name": "stdout",
     "output_type": "stream",
     "text": [
      "[CV]  max_depth=2, max_leaf_nodes=4, min_samples_split=3, total=   0.0s\n",
      "[CV] max_depth=2, max_leaf_nodes=4, min_samples_split=3 ..............\n",
      "[CV]  max_depth=2, max_leaf_nodes=4, min_samples_split=3, total=   0.0s\n",
      "[CV] max_depth=2, max_leaf_nodes=4, min_samples_split=3 ..............\n",
      "[CV]  max_depth=2, max_leaf_nodes=4, min_samples_split=3, total=   0.0s\n",
      "[CV] max_depth=2, max_leaf_nodes=4, min_samples_split=3 ..............\n",
      "[CV]  max_depth=2, max_leaf_nodes=4, min_samples_split=3, total=   0.0s\n",
      "[CV] max_depth=2, max_leaf_nodes=4, min_samples_split=4 ..............\n",
      "[CV]  max_depth=2, max_leaf_nodes=4, min_samples_split=4, total=   0.0s\n",
      "[CV] max_depth=2, max_leaf_nodes=4, min_samples_split=4 ..............\n",
      "[CV]  max_depth=2, max_leaf_nodes=4, min_samples_split=4, total=   0.0s\n",
      "[CV] max_depth=2, max_leaf_nodes=4, min_samples_split=4 ..............\n",
      "[CV]  max_depth=2, max_leaf_nodes=4, min_samples_split=4, total=   0.0s\n",
      "[CV] max_depth=2, max_leaf_nodes=4, min_samples_split=4 ..............\n",
      "[CV]  max_depth=2, max_leaf_nodes=4, min_samples_split=4, total=   0.0s\n",
      "[CV] max_depth=2, max_leaf_nodes=4, min_samples_split=4 ..............\n",
      "[CV]  max_depth=2, max_leaf_nodes=4, min_samples_split=4, total=   0.0s\n",
      "[CV] max_depth=3, max_leaf_nodes=2, min_samples_split=2 ..............\n",
      "[CV]  max_depth=3, max_leaf_nodes=2, min_samples_split=2, total=   0.0s\n",
      "[CV] max_depth=3, max_leaf_nodes=2, min_samples_split=2 ..............\n",
      "[CV]  max_depth=3, max_leaf_nodes=2, min_samples_split=2, total=   0.0s\n",
      "[CV] max_depth=3, max_leaf_nodes=2, min_samples_split=2 ..............\n",
      "[CV]  max_depth=3, max_leaf_nodes=2, min_samples_split=2, total=   0.0s\n",
      "[CV] max_depth=3, max_leaf_nodes=2, min_samples_split=2 ..............\n",
      "[CV]  max_depth=3, max_leaf_nodes=2, min_samples_split=2, total=   0.0s\n",
      "[CV] max_depth=3, max_leaf_nodes=2, min_samples_split=2 ..............\n",
      "[CV]  max_depth=3, max_leaf_nodes=2, min_samples_split=2, total=   0.0s\n",
      "[CV] max_depth=3, max_leaf_nodes=2, min_samples_split=3 ..............\n",
      "[CV]  max_depth=3, max_leaf_nodes=2, min_samples_split=3, total=   0.0s\n",
      "[CV] max_depth=3, max_leaf_nodes=2, min_samples_split=3 ..............\n",
      "[CV]  max_depth=3, max_leaf_nodes=2, min_samples_split=3, total=   0.0s\n",
      "[CV] max_depth=3, max_leaf_nodes=2, min_samples_split=3 ..............\n",
      "[CV]  max_depth=3, max_leaf_nodes=2, min_samples_split=3, total=   0.0s\n",
      "[CV] max_depth=3, max_leaf_nodes=2, min_samples_split=3 ..............\n",
      "[CV]  max_depth=3, max_leaf_nodes=2, min_samples_split=3, total=   0.0s\n",
      "[CV] max_depth=3, max_leaf_nodes=2, min_samples_split=3 ..............\n",
      "[CV]  max_depth=3, max_leaf_nodes=2, min_samples_split=3, total=   0.0s\n",
      "[CV] max_depth=3, max_leaf_nodes=2, min_samples_split=4 ..............\n",
      "[CV]  max_depth=3, max_leaf_nodes=2, min_samples_split=4, total=   0.0s\n",
      "[CV] max_depth=3, max_leaf_nodes=2, min_samples_split=4 ..............\n",
      "[CV]  max_depth=3, max_leaf_nodes=2, min_samples_split=4, total=   0.0s\n",
      "[CV] max_depth=3, max_leaf_nodes=2, min_samples_split=4 ..............\n",
      "[CV]  max_depth=3, max_leaf_nodes=2, min_samples_split=4, total=   0.0s\n",
      "[CV] max_depth=3, max_leaf_nodes=2, min_samples_split=4 ..............\n",
      "[CV]  max_depth=3, max_leaf_nodes=2, min_samples_split=4, total=   0.0s\n",
      "[CV] max_depth=3, max_leaf_nodes=2, min_samples_split=4 ..............\n",
      "[CV]  max_depth=3, max_leaf_nodes=2, min_samples_split=4, total=   0.0s\n",
      "[CV] max_depth=3, max_leaf_nodes=3, min_samples_split=2 ..............\n",
      "[CV]  max_depth=3, max_leaf_nodes=3, min_samples_split=2, total=   0.0s\n",
      "[CV] max_depth=3, max_leaf_nodes=3, min_samples_split=2 ..............\n",
      "[CV]  max_depth=3, max_leaf_nodes=3, min_samples_split=2, total=   0.0s\n",
      "[CV] max_depth=3, max_leaf_nodes=3, min_samples_split=2 ..............\n",
      "[CV]  max_depth=3, max_leaf_nodes=3, min_samples_split=2, total=   0.0s\n",
      "[CV] max_depth=3, max_leaf_nodes=3, min_samples_split=2 ..............\n",
      "[CV]  max_depth=3, max_leaf_nodes=3, min_samples_split=2, total=   0.0s\n",
      "[CV] max_depth=3, max_leaf_nodes=3, min_samples_split=2 ..............\n",
      "[CV]  max_depth=3, max_leaf_nodes=3, min_samples_split=2, total=   0.0s\n",
      "[CV] max_depth=3, max_leaf_nodes=3, min_samples_split=3 ..............\n",
      "[CV]  max_depth=3, max_leaf_nodes=3, min_samples_split=3, total=   0.0s\n",
      "[CV] max_depth=3, max_leaf_nodes=3, min_samples_split=3 ..............\n",
      "[CV]  max_depth=3, max_leaf_nodes=3, min_samples_split=3, total=   0.0s\n",
      "[CV] max_depth=3, max_leaf_nodes=3, min_samples_split=3 ..............\n",
      "[CV]  max_depth=3, max_leaf_nodes=3, min_samples_split=3, total=   0.0s\n",
      "[CV] max_depth=3, max_leaf_nodes=3, min_samples_split=3 ..............\n",
      "[CV]  max_depth=3, max_leaf_nodes=3, min_samples_split=3, total=   0.0s\n",
      "[CV] max_depth=3, max_leaf_nodes=3, min_samples_split=3 ..............\n",
      "[CV]  max_depth=3, max_leaf_nodes=3, min_samples_split=3, total=   0.0s\n",
      "[CV] max_depth=3, max_leaf_nodes=3, min_samples_split=4 ..............\n",
      "[CV]  max_depth=3, max_leaf_nodes=3, min_samples_split=4, total=   0.0s\n",
      "[CV] max_depth=3, max_leaf_nodes=3, min_samples_split=4 ..............\n",
      "[CV]  max_depth=3, max_leaf_nodes=3, min_samples_split=4, total=   0.0s\n",
      "[CV] max_depth=3, max_leaf_nodes=3, min_samples_split=4 ..............\n",
      "[CV]  max_depth=3, max_leaf_nodes=3, min_samples_split=4, total=   0.0s\n",
      "[CV] max_depth=3, max_leaf_nodes=3, min_samples_split=4 ..............\n",
      "[CV]  max_depth=3, max_leaf_nodes=3, min_samples_split=4, total=   0.0s\n",
      "[CV] max_depth=3, max_leaf_nodes=3, min_samples_split=4 ..............\n",
      "[CV]  max_depth=3, max_leaf_nodes=3, min_samples_split=4, total=   0.0s\n",
      "[CV] max_depth=3, max_leaf_nodes=4, min_samples_split=2 ..............\n",
      "[CV]  max_depth=3, max_leaf_nodes=4, min_samples_split=2, total=   0.0s\n",
      "[CV] max_depth=3, max_leaf_nodes=4, min_samples_split=2 ..............\n",
      "[CV]  max_depth=3, max_leaf_nodes=4, min_samples_split=2, total=   0.0s\n",
      "[CV] max_depth=3, max_leaf_nodes=4, min_samples_split=2 ..............\n",
      "[CV]  max_depth=3, max_leaf_nodes=4, min_samples_split=2, total=   0.0s\n",
      "[CV] max_depth=3, max_leaf_nodes=4, min_samples_split=2 ..............\n",
      "[CV]  max_depth=3, max_leaf_nodes=4, min_samples_split=2, total=   0.0s\n",
      "[CV] max_depth=3, max_leaf_nodes=4, min_samples_split=2 ..............\n",
      "[CV]  max_depth=3, max_leaf_nodes=4, min_samples_split=2, total=   0.0s\n",
      "[CV] max_depth=3, max_leaf_nodes=4, min_samples_split=3 ..............\n",
      "[CV]  max_depth=3, max_leaf_nodes=4, min_samples_split=3, total=   0.0s\n",
      "[CV] max_depth=3, max_leaf_nodes=4, min_samples_split=3 ..............\n",
      "[CV]  max_depth=3, max_leaf_nodes=4, min_samples_split=3, total=   0.0s\n",
      "[CV] max_depth=3, max_leaf_nodes=4, min_samples_split=3 ..............\n",
      "[CV]  max_depth=3, max_leaf_nodes=4, min_samples_split=3, total=   0.0s\n",
      "[CV] max_depth=3, max_leaf_nodes=4, min_samples_split=3 ..............\n",
      "[CV]  max_depth=3, max_leaf_nodes=4, min_samples_split=3, total=   0.0s\n",
      "[CV] max_depth=3, max_leaf_nodes=4, min_samples_split=3 ..............\n",
      "[CV]  max_depth=3, max_leaf_nodes=4, min_samples_split=3, total=   0.0s\n",
      "[CV] max_depth=3, max_leaf_nodes=4, min_samples_split=4 ..............\n",
      "[CV]  max_depth=3, max_leaf_nodes=4, min_samples_split=4, total=   0.0s\n",
      "[CV] max_depth=3, max_leaf_nodes=4, min_samples_split=4 ..............\n",
      "[CV]  max_depth=3, max_leaf_nodes=4, min_samples_split=4, total=   0.0s\n",
      "[CV] max_depth=3, max_leaf_nodes=4, min_samples_split=4 ..............\n",
      "[CV]  max_depth=3, max_leaf_nodes=4, min_samples_split=4, total=   0.0s\n",
      "[CV] max_depth=3, max_leaf_nodes=4, min_samples_split=4 ..............\n",
      "[CV]  max_depth=3, max_leaf_nodes=4, min_samples_split=4, total=   0.0s\n",
      "[CV] max_depth=3, max_leaf_nodes=4, min_samples_split=4 ..............\n",
      "[CV]  max_depth=3, max_leaf_nodes=4, min_samples_split=4, total=   0.0s\n",
      "[CV] max_depth=4, max_leaf_nodes=2, min_samples_split=2 ..............\n",
      "[CV]  max_depth=4, max_leaf_nodes=2, min_samples_split=2, total=   0.0s\n",
      "[CV] max_depth=4, max_leaf_nodes=2, min_samples_split=2 ..............\n",
      "[CV]  max_depth=4, max_leaf_nodes=2, min_samples_split=2, total=   0.0s\n",
      "[CV] max_depth=4, max_leaf_nodes=2, min_samples_split=2 ..............\n",
      "[CV]  max_depth=4, max_leaf_nodes=2, min_samples_split=2, total=   0.0s\n",
      "[CV] max_depth=4, max_leaf_nodes=2, min_samples_split=2 ..............\n",
      "[CV]  max_depth=4, max_leaf_nodes=2, min_samples_split=2, total=   0.0s\n",
      "[CV] max_depth=4, max_leaf_nodes=2, min_samples_split=2 ..............\n",
      "[CV]  max_depth=4, max_leaf_nodes=2, min_samples_split=2, total=   0.0s\n",
      "[CV] max_depth=4, max_leaf_nodes=2, min_samples_split=3 ..............\n",
      "[CV]  max_depth=4, max_leaf_nodes=2, min_samples_split=3, total=   0.0s\n",
      "[CV] max_depth=4, max_leaf_nodes=2, min_samples_split=3 ..............\n",
      "[CV]  max_depth=4, max_leaf_nodes=2, min_samples_split=3, total=   0.0s\n",
      "[CV] max_depth=4, max_leaf_nodes=2, min_samples_split=3 ..............\n",
      "[CV]  max_depth=4, max_leaf_nodes=2, min_samples_split=3, total=   0.0s\n",
      "[CV] max_depth=4, max_leaf_nodes=2, min_samples_split=3 ..............\n",
      "[CV]  max_depth=4, max_leaf_nodes=2, min_samples_split=3, total=   0.0s\n",
      "[CV] max_depth=4, max_leaf_nodes=2, min_samples_split=3 ..............\n",
      "[CV]  max_depth=4, max_leaf_nodes=2, min_samples_split=3, total=   0.0s\n",
      "[CV] max_depth=4, max_leaf_nodes=2, min_samples_split=4 ..............\n",
      "[CV]  max_depth=4, max_leaf_nodes=2, min_samples_split=4, total=   0.0s\n",
      "[CV] max_depth=4, max_leaf_nodes=2, min_samples_split=4 ..............\n",
      "[CV]  max_depth=4, max_leaf_nodes=2, min_samples_split=4, total=   0.0s\n",
      "[CV] max_depth=4, max_leaf_nodes=2, min_samples_split=4 ..............\n",
      "[CV]  max_depth=4, max_leaf_nodes=2, min_samples_split=4, total=   0.0s\n",
      "[CV] max_depth=4, max_leaf_nodes=2, min_samples_split=4 ..............\n",
      "[CV]  max_depth=4, max_leaf_nodes=2, min_samples_split=4, total=   0.0s\n",
      "[CV] max_depth=4, max_leaf_nodes=2, min_samples_split=4 ..............\n"
     ]
    },
    {
     "name": "stdout",
     "output_type": "stream",
     "text": [
      "[CV]  max_depth=4, max_leaf_nodes=2, min_samples_split=4, total=   0.0s\n",
      "[CV] max_depth=4, max_leaf_nodes=3, min_samples_split=2 ..............\n",
      "[CV]  max_depth=4, max_leaf_nodes=3, min_samples_split=2, total=   0.0s\n",
      "[CV] max_depth=4, max_leaf_nodes=3, min_samples_split=2 ..............\n",
      "[CV]  max_depth=4, max_leaf_nodes=3, min_samples_split=2, total=   0.0s\n",
      "[CV] max_depth=4, max_leaf_nodes=3, min_samples_split=2 ..............\n",
      "[CV]  max_depth=4, max_leaf_nodes=3, min_samples_split=2, total=   0.0s\n",
      "[CV] max_depth=4, max_leaf_nodes=3, min_samples_split=2 ..............\n",
      "[CV]  max_depth=4, max_leaf_nodes=3, min_samples_split=2, total=   0.0s\n",
      "[CV] max_depth=4, max_leaf_nodes=3, min_samples_split=2 ..............\n",
      "[CV]  max_depth=4, max_leaf_nodes=3, min_samples_split=2, total=   0.0s\n",
      "[CV] max_depth=4, max_leaf_nodes=3, min_samples_split=3 ..............\n",
      "[CV]  max_depth=4, max_leaf_nodes=3, min_samples_split=3, total=   0.0s\n",
      "[CV] max_depth=4, max_leaf_nodes=3, min_samples_split=3 ..............\n",
      "[CV]  max_depth=4, max_leaf_nodes=3, min_samples_split=3, total=   0.0s\n",
      "[CV] max_depth=4, max_leaf_nodes=3, min_samples_split=3 ..............\n",
      "[CV]  max_depth=4, max_leaf_nodes=3, min_samples_split=3, total=   0.0s\n",
      "[CV] max_depth=4, max_leaf_nodes=3, min_samples_split=3 ..............\n",
      "[CV]  max_depth=4, max_leaf_nodes=3, min_samples_split=3, total=   0.0s\n",
      "[CV] max_depth=4, max_leaf_nodes=3, min_samples_split=3 ..............\n",
      "[CV]  max_depth=4, max_leaf_nodes=3, min_samples_split=3, total=   0.0s\n",
      "[CV] max_depth=4, max_leaf_nodes=3, min_samples_split=4 ..............\n",
      "[CV]  max_depth=4, max_leaf_nodes=3, min_samples_split=4, total=   0.0s\n",
      "[CV] max_depth=4, max_leaf_nodes=3, min_samples_split=4 ..............\n",
      "[CV]  max_depth=4, max_leaf_nodes=3, min_samples_split=4, total=   0.0s\n",
      "[CV] max_depth=4, max_leaf_nodes=3, min_samples_split=4 ..............\n",
      "[CV]  max_depth=4, max_leaf_nodes=3, min_samples_split=4, total=   0.0s\n",
      "[CV] max_depth=4, max_leaf_nodes=3, min_samples_split=4 ..............\n",
      "[CV]  max_depth=4, max_leaf_nodes=3, min_samples_split=4, total=   0.0s\n",
      "[CV] max_depth=4, max_leaf_nodes=3, min_samples_split=4 ..............\n",
      "[CV]  max_depth=4, max_leaf_nodes=3, min_samples_split=4, total=   0.0s\n",
      "[CV] max_depth=4, max_leaf_nodes=4, min_samples_split=2 ..............\n",
      "[CV]  max_depth=4, max_leaf_nodes=4, min_samples_split=2, total=   0.0s\n",
      "[CV] max_depth=4, max_leaf_nodes=4, min_samples_split=2 ..............\n",
      "[CV]  max_depth=4, max_leaf_nodes=4, min_samples_split=2, total=   0.0s\n",
      "[CV] max_depth=4, max_leaf_nodes=4, min_samples_split=2 ..............\n",
      "[CV]  max_depth=4, max_leaf_nodes=4, min_samples_split=2, total=   0.0s\n",
      "[CV] max_depth=4, max_leaf_nodes=4, min_samples_split=2 ..............\n",
      "[CV]  max_depth=4, max_leaf_nodes=4, min_samples_split=2, total=   0.0s\n",
      "[CV] max_depth=4, max_leaf_nodes=4, min_samples_split=2 ..............\n",
      "[CV]  max_depth=4, max_leaf_nodes=4, min_samples_split=2, total=   0.0s\n",
      "[CV] max_depth=4, max_leaf_nodes=4, min_samples_split=3 ..............\n",
      "[CV]  max_depth=4, max_leaf_nodes=4, min_samples_split=3, total=   0.0s\n",
      "[CV] max_depth=4, max_leaf_nodes=4, min_samples_split=3 ..............\n",
      "[CV]  max_depth=4, max_leaf_nodes=4, min_samples_split=3, total=   0.0s\n",
      "[CV] max_depth=4, max_leaf_nodes=4, min_samples_split=3 ..............\n",
      "[CV]  max_depth=4, max_leaf_nodes=4, min_samples_split=3, total=   0.0s\n",
      "[CV] max_depth=4, max_leaf_nodes=4, min_samples_split=3 ..............\n",
      "[CV]  max_depth=4, max_leaf_nodes=4, min_samples_split=3, total=   0.0s\n",
      "[CV] max_depth=4, max_leaf_nodes=4, min_samples_split=3 ..............\n",
      "[CV]  max_depth=4, max_leaf_nodes=4, min_samples_split=3, total=   0.0s\n",
      "[CV] max_depth=4, max_leaf_nodes=4, min_samples_split=4 ..............\n",
      "[CV]  max_depth=4, max_leaf_nodes=4, min_samples_split=4, total=   0.0s\n",
      "[CV] max_depth=4, max_leaf_nodes=4, min_samples_split=4 ..............\n",
      "[CV]  max_depth=4, max_leaf_nodes=4, min_samples_split=4, total=   0.0s\n",
      "[CV] max_depth=4, max_leaf_nodes=4, min_samples_split=4 ..............\n",
      "[CV]  max_depth=4, max_leaf_nodes=4, min_samples_split=4, total=   0.0s\n",
      "[CV] max_depth=4, max_leaf_nodes=4, min_samples_split=4 ..............\n",
      "[CV]  max_depth=4, max_leaf_nodes=4, min_samples_split=4, total=   0.0s\n",
      "[CV] max_depth=4, max_leaf_nodes=4, min_samples_split=4 ..............\n",
      "[CV]  max_depth=4, max_leaf_nodes=4, min_samples_split=4, total=   0.0s\n",
      "[CV] max_depth=5, max_leaf_nodes=2, min_samples_split=2 ..............\n",
      "[CV]  max_depth=5, max_leaf_nodes=2, min_samples_split=2, total=   0.0s\n",
      "[CV] max_depth=5, max_leaf_nodes=2, min_samples_split=2 ..............\n",
      "[CV]  max_depth=5, max_leaf_nodes=2, min_samples_split=2, total=   0.0s\n",
      "[CV] max_depth=5, max_leaf_nodes=2, min_samples_split=2 ..............\n",
      "[CV]  max_depth=5, max_leaf_nodes=2, min_samples_split=2, total=   0.0s\n",
      "[CV] max_depth=5, max_leaf_nodes=2, min_samples_split=2 ..............\n",
      "[CV]  max_depth=5, max_leaf_nodes=2, min_samples_split=2, total=   0.0s\n",
      "[CV] max_depth=5, max_leaf_nodes=2, min_samples_split=2 ..............\n",
      "[CV]  max_depth=5, max_leaf_nodes=2, min_samples_split=2, total=   0.0s\n",
      "[CV] max_depth=5, max_leaf_nodes=2, min_samples_split=3 ..............\n",
      "[CV]  max_depth=5, max_leaf_nodes=2, min_samples_split=3, total=   0.0s\n",
      "[CV] max_depth=5, max_leaf_nodes=2, min_samples_split=3 ..............\n",
      "[CV]  max_depth=5, max_leaf_nodes=2, min_samples_split=3, total=   0.0s\n",
      "[CV] max_depth=5, max_leaf_nodes=2, min_samples_split=3 ..............\n",
      "[CV]  max_depth=5, max_leaf_nodes=2, min_samples_split=3, total=   0.0s\n",
      "[CV] max_depth=5, max_leaf_nodes=2, min_samples_split=3 ..............\n",
      "[CV]  max_depth=5, max_leaf_nodes=2, min_samples_split=3, total=   0.0s\n",
      "[CV] max_depth=5, max_leaf_nodes=2, min_samples_split=3 ..............\n",
      "[CV]  max_depth=5, max_leaf_nodes=2, min_samples_split=3, total=   0.0s\n",
      "[CV] max_depth=5, max_leaf_nodes=2, min_samples_split=4 ..............\n",
      "[CV]  max_depth=5, max_leaf_nodes=2, min_samples_split=4, total=   0.0s\n",
      "[CV] max_depth=5, max_leaf_nodes=2, min_samples_split=4 ..............\n",
      "[CV]  max_depth=5, max_leaf_nodes=2, min_samples_split=4, total=   0.0s\n",
      "[CV] max_depth=5, max_leaf_nodes=2, min_samples_split=4 ..............\n",
      "[CV]  max_depth=5, max_leaf_nodes=2, min_samples_split=4, total=   0.0s\n",
      "[CV] max_depth=5, max_leaf_nodes=2, min_samples_split=4 ..............\n",
      "[CV]  max_depth=5, max_leaf_nodes=2, min_samples_split=4, total=   0.0s\n",
      "[CV] max_depth=5, max_leaf_nodes=2, min_samples_split=4 ..............\n",
      "[CV]  max_depth=5, max_leaf_nodes=2, min_samples_split=4, total=   0.0s\n",
      "[CV] max_depth=5, max_leaf_nodes=3, min_samples_split=2 ..............\n",
      "[CV]  max_depth=5, max_leaf_nodes=3, min_samples_split=2, total=   0.0s\n",
      "[CV] max_depth=5, max_leaf_nodes=3, min_samples_split=2 ..............\n",
      "[CV]  max_depth=5, max_leaf_nodes=3, min_samples_split=2, total=   0.0s\n",
      "[CV] max_depth=5, max_leaf_nodes=3, min_samples_split=2 ..............\n",
      "[CV]  max_depth=5, max_leaf_nodes=3, min_samples_split=2, total=   0.0s\n",
      "[CV] max_depth=5, max_leaf_nodes=3, min_samples_split=2 ..............\n",
      "[CV]  max_depth=5, max_leaf_nodes=3, min_samples_split=2, total=   0.0s\n",
      "[CV] max_depth=5, max_leaf_nodes=3, min_samples_split=2 ..............\n",
      "[CV]  max_depth=5, max_leaf_nodes=3, min_samples_split=2, total=   0.0s\n",
      "[CV] max_depth=5, max_leaf_nodes=3, min_samples_split=3 ..............\n",
      "[CV]  max_depth=5, max_leaf_nodes=3, min_samples_split=3, total=   0.0s\n",
      "[CV] max_depth=5, max_leaf_nodes=3, min_samples_split=3 ..............\n",
      "[CV]  max_depth=5, max_leaf_nodes=3, min_samples_split=3, total=   0.0s\n",
      "[CV] max_depth=5, max_leaf_nodes=3, min_samples_split=3 ..............\n",
      "[CV]  max_depth=5, max_leaf_nodes=3, min_samples_split=3, total=   0.0s\n",
      "[CV] max_depth=5, max_leaf_nodes=3, min_samples_split=3 ..............\n",
      "[CV]  max_depth=5, max_leaf_nodes=3, min_samples_split=3, total=   0.0s\n",
      "[CV] max_depth=5, max_leaf_nodes=3, min_samples_split=3 ..............\n",
      "[CV]  max_depth=5, max_leaf_nodes=3, min_samples_split=3, total=   0.0s\n",
      "[CV] max_depth=5, max_leaf_nodes=3, min_samples_split=4 ..............\n",
      "[CV]  max_depth=5, max_leaf_nodes=3, min_samples_split=4, total=   0.0s\n",
      "[CV] max_depth=5, max_leaf_nodes=3, min_samples_split=4 ..............\n",
      "[CV]  max_depth=5, max_leaf_nodes=3, min_samples_split=4, total=   0.0s\n",
      "[CV] max_depth=5, max_leaf_nodes=3, min_samples_split=4 ..............\n",
      "[CV]  max_depth=5, max_leaf_nodes=3, min_samples_split=4, total=   0.0s\n",
      "[CV] max_depth=5, max_leaf_nodes=3, min_samples_split=4 ..............\n",
      "[CV]  max_depth=5, max_leaf_nodes=3, min_samples_split=4, total=   0.0s\n",
      "[CV] max_depth=5, max_leaf_nodes=3, min_samples_split=4 ..............\n",
      "[CV]  max_depth=5, max_leaf_nodes=3, min_samples_split=4, total=   0.0s\n",
      "[CV] max_depth=5, max_leaf_nodes=4, min_samples_split=2 ..............\n",
      "[CV]  max_depth=5, max_leaf_nodes=4, min_samples_split=2, total=   0.0s\n",
      "[CV] max_depth=5, max_leaf_nodes=4, min_samples_split=2 ..............\n",
      "[CV]  max_depth=5, max_leaf_nodes=4, min_samples_split=2, total=   0.0s\n",
      "[CV] max_depth=5, max_leaf_nodes=4, min_samples_split=2 ..............\n",
      "[CV]  max_depth=5, max_leaf_nodes=4, min_samples_split=2, total=   0.0s\n",
      "[CV] max_depth=5, max_leaf_nodes=4, min_samples_split=2 ..............\n",
      "[CV]  max_depth=5, max_leaf_nodes=4, min_samples_split=2, total=   0.0s\n",
      "[CV] max_depth=5, max_leaf_nodes=4, min_samples_split=2 ..............\n"
     ]
    },
    {
     "name": "stdout",
     "output_type": "stream",
     "text": [
      "[CV]  max_depth=5, max_leaf_nodes=4, min_samples_split=2, total=   0.0s\n",
      "[CV] max_depth=5, max_leaf_nodes=4, min_samples_split=3 ..............\n",
      "[CV]  max_depth=5, max_leaf_nodes=4, min_samples_split=3, total=   0.0s\n",
      "[CV] max_depth=5, max_leaf_nodes=4, min_samples_split=3 ..............\n",
      "[CV]  max_depth=5, max_leaf_nodes=4, min_samples_split=3, total=   0.0s\n",
      "[CV] max_depth=5, max_leaf_nodes=4, min_samples_split=3 ..............\n",
      "[CV]  max_depth=5, max_leaf_nodes=4, min_samples_split=3, total=   0.0s\n",
      "[CV] max_depth=5, max_leaf_nodes=4, min_samples_split=3 ..............\n",
      "[CV]  max_depth=5, max_leaf_nodes=4, min_samples_split=3, total=   0.0s\n",
      "[CV] max_depth=5, max_leaf_nodes=4, min_samples_split=3 ..............\n",
      "[CV]  max_depth=5, max_leaf_nodes=4, min_samples_split=3, total=   0.0s\n",
      "[CV] max_depth=5, max_leaf_nodes=4, min_samples_split=4 ..............\n",
      "[CV]  max_depth=5, max_leaf_nodes=4, min_samples_split=4, total=   0.0s\n",
      "[CV] max_depth=5, max_leaf_nodes=4, min_samples_split=4 ..............\n",
      "[CV]  max_depth=5, max_leaf_nodes=4, min_samples_split=4, total=   0.0s\n",
      "[CV] max_depth=5, max_leaf_nodes=4, min_samples_split=4 ..............\n",
      "[CV]  max_depth=5, max_leaf_nodes=4, min_samples_split=4, total=   0.0s\n",
      "[CV] max_depth=5, max_leaf_nodes=4, min_samples_split=4 ..............\n",
      "[CV]  max_depth=5, max_leaf_nodes=4, min_samples_split=4, total=   0.0s\n",
      "[CV] max_depth=5, max_leaf_nodes=4, min_samples_split=4 ..............\n",
      "[CV]  max_depth=5, max_leaf_nodes=4, min_samples_split=4, total=   0.0s\n",
      "최적 하이퍼 파라미터:{'max_depth': 2, 'max_leaf_nodes': 4, 'min_samples_split': 2}, \n"
     ]
    },
    {
     "name": "stderr",
     "output_type": "stream",
     "text": [
      "[Parallel(n_jobs=1)]: Done 180 out of 180 | elapsed:    0.9s finished\n"
     ]
    }
   ],
   "source": [
    "from sklearn.tree import DecisionTreeClassifier\n",
    "from sklearn.model_selection import GridSearchCV\n",
    "\n",
    "tree_clf = DecisionTreeClassifier()\n",
    "\n",
    "params = {'max_leaf_nodes' : [2, 3, 4],\n",
    "          'min_samples_split' : [2, 3, 4],\n",
    "          'max_depth' : [2,3,4,5]}\n",
    "\n",
    "grid_clf = GridSearchCV(tree_clf, param_grid = params, pre_dispatch='2*n_jobs',refit = True,\n",
    "                       return_train_score = False, scoring = None, verbose = 2)\n",
    "grid_clf.fit(X_train,y_train)\n",
    "print('최적 하이퍼 파라미터:{0}, '.format(grid_clf.best_params_))"
   ]
  },
  {
   "cell_type": "code",
   "execution_count": 7,
   "metadata": {},
   "outputs": [
    {
     "data": {
      "text/plain": [
       "DecisionTreeClassifier(ccp_alpha=0.0, class_weight=None, criterion='gini',\n",
       "                       max_depth=None, max_features=None, max_leaf_nodes=4,\n",
       "                       min_impurity_decrease=0.0, min_impurity_split=None,\n",
       "                       min_samples_leaf=1, min_samples_split=2,\n",
       "                       min_weight_fraction_leaf=0.0, presort='deprecated',\n",
       "                       random_state=None, splitter='best')"
      ]
     },
     "execution_count": 7,
     "metadata": {},
     "output_type": "execute_result"
    }
   ],
   "source": [
    "grid_clf.best_estimator_"
   ]
  },
  {
   "cell_type": "code",
   "execution_count": 24,
   "metadata": {},
   "outputs": [
    {
     "data": {
      "text/plain": [
       "0.856"
      ]
     },
     "execution_count": 24,
     "metadata": {},
     "output_type": "execute_result"
    }
   ],
   "source": [
    "from sklearn.metrics import accuracy_score\n",
    "\n",
    "y_pred = grid_clf.predict(X_test)\n",
    "accuracy_score(y_test,y_pred)"
   ]
  },
  {
   "cell_type": "code",
   "execution_count": 13,
   "metadata": {},
   "outputs": [
    {
     "data": {
      "text/plain": [
       "DecisionTreeClassifier(ccp_alpha=0.0, class_weight=None, criterion='gini',\n",
       "                       max_depth=2, max_features=None, max_leaf_nodes=4,\n",
       "                       min_impurity_decrease=0.0, min_impurity_split=None,\n",
       "                       min_samples_leaf=1, min_samples_split=2,\n",
       "                       min_weight_fraction_leaf=0.0, presort='deprecated',\n",
       "                       random_state=None, splitter='best')"
      ]
     },
     "execution_count": 13,
     "metadata": {},
     "output_type": "execute_result"
    }
   ],
   "source": [
    "grid_tree_clf = DecisionTreeClassifier(max_depth = 2, max_leaf_nodes = 4, min_samples_split = 2)\n",
    "grid_tree_clf.fit(X_train,y_train)"
   ]
  },
  {
   "cell_type": "code",
   "execution_count": 19,
   "metadata": {},
   "outputs": [],
   "source": [
    "from sklearn.tree import export_graphviz\n",
    "\n",
    "# export_graphviz()의 호출 결과로 out_file로 지정된 tree.dot 파일을 생성함. \n",
    "export_graphviz(grid_tree_clf, \n",
    "                out_file=\"moons_tree.dot\", \n",
    "                #class_names=iris.target_names,\n",
    "                #feature_names=[\"꽃잎 길이 (cm)\", \"꽃잎 너비 (cm)\"],\n",
    "                #feature_names = iris.feature_names[2:], \n",
    "                rounded = True,                \n",
    "                filled=True)"
   ]
  },
  {
   "cell_type": "code",
   "execution_count": 20,
   "metadata": {},
   "outputs": [
    {
     "data": {
      "image/svg+xml": [
       "<?xml version=\"1.0\" encoding=\"UTF-8\" standalone=\"no\"?>\r\n",
       "<!DOCTYPE svg PUBLIC \"-//W3C//DTD SVG 1.1//EN\"\r\n",
       " \"http://www.w3.org/Graphics/SVG/1.1/DTD/svg11.dtd\">\r\n",
       "<!-- Generated by graphviz version 2.38.0 (20140413.2041)\r\n",
       " -->\r\n",
       "<!-- Title: Tree Pages: 1 -->\r\n",
       "<svg width=\"582pt\" height=\"269pt\"\r\n",
       " viewBox=\"0.00 0.00 582.00 269.00\" xmlns=\"http://www.w3.org/2000/svg\" xmlns:xlink=\"http://www.w3.org/1999/xlink\">\r\n",
       "<g id=\"graph0\" class=\"graph\" transform=\"scale(1 1) rotate(0) translate(4 265)\">\r\n",
       "<title>Tree</title>\r\n",
       "<polygon fill=\"white\" stroke=\"none\" points=\"-4,4 -4,-265 578,-265 578,4 -4,4\"/>\r\n",
       "<!-- 0 -->\r\n",
       "<g id=\"node1\" class=\"node\"><title>0</title>\r\n",
       "<path fill=\"#fbfdfe\" stroke=\"black\" d=\"M348,-261C348,-261 226,-261 226,-261 220,-261 214,-255 214,-249 214,-249 214,-205 214,-205 214,-199 220,-193 226,-193 226,-193 348,-193 348,-193 354,-193 360,-199 360,-205 360,-205 360,-249 360,-249 360,-255 354,-261 348,-261\"/>\r\n",
       "<text text-anchor=\"middle\" x=\"287\" y=\"-245.8\" font-family=\"Helvetica,sans-Serif\" font-size=\"14.00\">X[1] &lt;= 0.302</text>\r\n",
       "<text text-anchor=\"middle\" x=\"287\" y=\"-230.8\" font-family=\"Helvetica,sans-Serif\" font-size=\"14.00\">gini = 0.5</text>\r\n",
       "<text text-anchor=\"middle\" x=\"287\" y=\"-215.8\" font-family=\"Helvetica,sans-Serif\" font-size=\"14.00\">samples = 7000</text>\r\n",
       "<text text-anchor=\"middle\" x=\"287\" y=\"-200.8\" font-family=\"Helvetica,sans-Serif\" font-size=\"14.00\">value = [3461, 3539]</text>\r\n",
       "</g>\r\n",
       "<!-- 1 -->\r\n",
       "<g id=\"node2\" class=\"node\"><title>1</title>\r\n",
       "<path fill=\"#77bced\" stroke=\"black\" d=\"M266,-157C266,-157 152,-157 152,-157 146,-157 140,-151 140,-145 140,-145 140,-101 140,-101 140,-95 146,-89 152,-89 152,-89 266,-89 266,-89 272,-89 278,-95 278,-101 278,-101 278,-145 278,-145 278,-151 272,-157 266,-157\"/>\r\n",
       "<text text-anchor=\"middle\" x=\"209\" y=\"-141.8\" font-family=\"Helvetica,sans-Serif\" font-size=\"14.00\">X[0] &lt;= &#45;0.46</text>\r\n",
       "<text text-anchor=\"middle\" x=\"209\" y=\"-126.8\" font-family=\"Helvetica,sans-Serif\" font-size=\"14.00\">gini = 0.363</text>\r\n",
       "<text text-anchor=\"middle\" x=\"209\" y=\"-111.8\" font-family=\"Helvetica,sans-Serif\" font-size=\"14.00\">samples = 3763</text>\r\n",
       "<text text-anchor=\"middle\" x=\"209\" y=\"-96.8\" font-family=\"Helvetica,sans-Serif\" font-size=\"14.00\">value = [897, 2866]</text>\r\n",
       "</g>\r\n",
       "<!-- 0&#45;&gt;1 -->\r\n",
       "<g id=\"edge1\" class=\"edge\"><title>0&#45;&gt;1</title>\r\n",
       "<path fill=\"none\" stroke=\"black\" d=\"M261.676,-192.884C255,-184.154 247.713,-174.625 240.746,-165.514\"/>\r\n",
       "<polygon fill=\"black\" stroke=\"black\" points=\"243.319,-163.117 234.464,-157.299 237.758,-167.369 243.319,-163.117\"/>\r\n",
       "<text text-anchor=\"middle\" x=\"231.16\" y=\"-178.38\" font-family=\"Helvetica,sans-Serif\" font-size=\"14.00\">True</text>\r\n",
       "</g>\r\n",
       "<!-- 2 -->\r\n",
       "<g id=\"node5\" class=\"node\"><title>2</title>\r\n",
       "<path fill=\"#eca26d\" stroke=\"black\" d=\"M422,-157C422,-157 308,-157 308,-157 302,-157 296,-151 296,-145 296,-145 296,-101 296,-101 296,-95 302,-89 308,-89 308,-89 422,-89 422,-89 428,-89 434,-95 434,-101 434,-101 434,-145 434,-145 434,-151 428,-157 422,-157\"/>\r\n",
       "<text text-anchor=\"middle\" x=\"365\" y=\"-141.8\" font-family=\"Helvetica,sans-Serif\" font-size=\"14.00\">X[0] &lt;= 1.398</text>\r\n",
       "<text text-anchor=\"middle\" x=\"365\" y=\"-126.8\" font-family=\"Helvetica,sans-Serif\" font-size=\"14.00\">gini = 0.329</text>\r\n",
       "<text text-anchor=\"middle\" x=\"365\" y=\"-111.8\" font-family=\"Helvetica,sans-Serif\" font-size=\"14.00\">samples = 3237</text>\r\n",
       "<text text-anchor=\"middle\" x=\"365\" y=\"-96.8\" font-family=\"Helvetica,sans-Serif\" font-size=\"14.00\">value = [2564, 673]</text>\r\n",
       "</g>\r\n",
       "<!-- 0&#45;&gt;2 -->\r\n",
       "<g id=\"edge4\" class=\"edge\"><title>0&#45;&gt;2</title>\r\n",
       "<path fill=\"none\" stroke=\"black\" d=\"M312.324,-192.884C319,-184.154 326.287,-174.625 333.254,-165.514\"/>\r\n",
       "<polygon fill=\"black\" stroke=\"black\" points=\"336.242,-167.369 339.536,-157.299 330.681,-163.117 336.242,-167.369\"/>\r\n",
       "<text text-anchor=\"middle\" x=\"342.84\" y=\"-178.38\" font-family=\"Helvetica,sans-Serif\" font-size=\"14.00\">False</text>\r\n",
       "</g>\r\n",
       "<!-- 3 -->\r\n",
       "<g id=\"node3\" class=\"node\"><title>3</title>\r\n",
       "<path fill=\"#e89153\" stroke=\"black\" d=\"M110,-53C110,-53 12,-53 12,-53 6,-53 7.10543e-015,-47 7.10543e-015,-41 7.10543e-015,-41 7.10543e-015,-12 7.10543e-015,-12 7.10543e-015,-6 6,-0 12,-0 12,-0 110,-0 110,-0 116,-0 122,-6 122,-12 122,-12 122,-41 122,-41 122,-47 116,-53 110,-53\"/>\r\n",
       "<text text-anchor=\"middle\" x=\"61\" y=\"-37.8\" font-family=\"Helvetica,sans-Serif\" font-size=\"14.00\">gini = 0.203</text>\r\n",
       "<text text-anchor=\"middle\" x=\"61\" y=\"-22.8\" font-family=\"Helvetica,sans-Serif\" font-size=\"14.00\">samples = 427</text>\r\n",
       "<text text-anchor=\"middle\" x=\"61\" y=\"-7.8\" font-family=\"Helvetica,sans-Serif\" font-size=\"14.00\">value = [378, 49]</text>\r\n",
       "</g>\r\n",
       "<!-- 1&#45;&gt;3 -->\r\n",
       "<g id=\"edge2\" class=\"edge\"><title>1&#45;&gt;3</title>\r\n",
       "<path fill=\"none\" stroke=\"black\" d=\"M157.237,-88.9485C141.907,-79.1601 125.173,-68.4756 110.022,-58.8015\"/>\r\n",
       "<polygon fill=\"black\" stroke=\"black\" points=\"111.619,-55.6685 101.307,-53.2367 107.852,-61.5683 111.619,-55.6685\"/>\r\n",
       "</g>\r\n",
       "<!-- 4 -->\r\n",
       "<g id=\"node4\" class=\"node\"><title>4</title>\r\n",
       "<path fill=\"#5dafea\" stroke=\"black\" d=\"M266,-53C266,-53 152,-53 152,-53 146,-53 140,-47 140,-41 140,-41 140,-12 140,-12 140,-6 146,-0 152,-0 152,-0 266,-0 266,-0 272,-0 278,-6 278,-12 278,-12 278,-41 278,-41 278,-47 272,-53 266,-53\"/>\r\n",
       "<text text-anchor=\"middle\" x=\"209\" y=\"-37.8\" font-family=\"Helvetica,sans-Serif\" font-size=\"14.00\">gini = 0.263</text>\r\n",
       "<text text-anchor=\"middle\" x=\"209\" y=\"-22.8\" font-family=\"Helvetica,sans-Serif\" font-size=\"14.00\">samples = 3336</text>\r\n",
       "<text text-anchor=\"middle\" x=\"209\" y=\"-7.8\" font-family=\"Helvetica,sans-Serif\" font-size=\"14.00\">value = [519, 2817]</text>\r\n",
       "</g>\r\n",
       "<!-- 1&#45;&gt;4 -->\r\n",
       "<g id=\"edge3\" class=\"edge\"><title>1&#45;&gt;4</title>\r\n",
       "<path fill=\"none\" stroke=\"black\" d=\"M209,-88.9485C209,-80.7153 209,-71.848 209,-63.4814\"/>\r\n",
       "<polygon fill=\"black\" stroke=\"black\" points=\"212.5,-63.2367 209,-53.2367 205.5,-63.2367 212.5,-63.2367\"/>\r\n",
       "</g>\r\n",
       "<!-- 5 -->\r\n",
       "<g id=\"node6\" class=\"node\"><title>5</title>\r\n",
       "<path fill=\"#e99457\" stroke=\"black\" d=\"M422,-53C422,-53 308,-53 308,-53 302,-53 296,-47 296,-41 296,-41 296,-12 296,-12 296,-6 302,-0 308,-0 308,-0 422,-0 422,-0 428,-0 434,-6 434,-12 434,-12 434,-41 434,-41 434,-47 428,-53 422,-53\"/>\r\n",
       "<text text-anchor=\"middle\" x=\"365\" y=\"-37.8\" font-family=\"Helvetica,sans-Serif\" font-size=\"14.00\">gini = 0.227</text>\r\n",
       "<text text-anchor=\"middle\" x=\"365\" y=\"-22.8\" font-family=\"Helvetica,sans-Serif\" font-size=\"14.00\">samples = 2896</text>\r\n",
       "<text text-anchor=\"middle\" x=\"365\" y=\"-7.8\" font-family=\"Helvetica,sans-Serif\" font-size=\"14.00\">value = [2518, 378]</text>\r\n",
       "</g>\r\n",
       "<!-- 2&#45;&gt;5 -->\r\n",
       "<g id=\"edge5\" class=\"edge\"><title>2&#45;&gt;5</title>\r\n",
       "<path fill=\"none\" stroke=\"black\" d=\"M365,-88.9485C365,-80.7153 365,-71.848 365,-63.4814\"/>\r\n",
       "<polygon fill=\"black\" stroke=\"black\" points=\"368.5,-63.2367 365,-53.2367 361.5,-63.2367 368.5,-63.2367\"/>\r\n",
       "</g>\r\n",
       "<!-- 6 -->\r\n",
       "<g id=\"node7\" class=\"node\"><title>6</title>\r\n",
       "<path fill=\"#58ace9\" stroke=\"black\" d=\"M562,-53C562,-53 464,-53 464,-53 458,-53 452,-47 452,-41 452,-41 452,-12 452,-12 452,-6 458,-0 464,-0 464,-0 562,-0 562,-0 568,-0 574,-6 574,-12 574,-12 574,-41 574,-41 574,-47 568,-53 562,-53\"/>\r\n",
       "<text text-anchor=\"middle\" x=\"513\" y=\"-37.8\" font-family=\"Helvetica,sans-Serif\" font-size=\"14.00\">gini = 0.233</text>\r\n",
       "<text text-anchor=\"middle\" x=\"513\" y=\"-22.8\" font-family=\"Helvetica,sans-Serif\" font-size=\"14.00\">samples = 341</text>\r\n",
       "<text text-anchor=\"middle\" x=\"513\" y=\"-7.8\" font-family=\"Helvetica,sans-Serif\" font-size=\"14.00\">value = [46, 295]</text>\r\n",
       "</g>\r\n",
       "<!-- 2&#45;&gt;6 -->\r\n",
       "<g id=\"edge6\" class=\"edge\"><title>2&#45;&gt;6</title>\r\n",
       "<path fill=\"none\" stroke=\"black\" d=\"M416.763,-88.9485C432.093,-79.1601 448.827,-68.4756 463.978,-58.8015\"/>\r\n",
       "<polygon fill=\"black\" stroke=\"black\" points=\"466.148,-61.5683 472.693,-53.2367 462.381,-55.6685 466.148,-61.5683\"/>\r\n",
       "</g>\r\n",
       "</g>\r\n",
       "</svg>\r\n"
      ],
      "text/plain": [
       "<graphviz.files.Source at 0x188cca01588>"
      ]
     },
     "execution_count": 20,
     "metadata": {},
     "output_type": "execute_result"
    }
   ],
   "source": [
    "import graphviz\n",
    "with open(\"moons_tree.dot\") as f:\n",
    "    dot_graph = f.read()\n",
    "graphviz.Source(dot_graph)"
   ]
  },
  {
   "cell_type": "code",
   "execution_count": 4,
   "metadata": {},
   "outputs": [
    {
     "name": "stdout",
     "output_type": "stream",
     "text": [
      "Fitting 3 folds for each of 294 candidates, totalling 882 fits\n"
     ]
    },
    {
     "name": "stderr",
     "output_type": "stream",
     "text": [
      "[Parallel(n_jobs=1)]: Using backend SequentialBackend with 1 concurrent workers.\n",
      "[Parallel(n_jobs=1)]: Done 882 out of 882 | elapsed:    8.7s finished\n"
     ]
    },
    {
     "data": {
      "text/plain": [
       "GridSearchCV(cv=3, error_score=nan,\n",
       "             estimator=DecisionTreeClassifier(ccp_alpha=0.0, class_weight=None,\n",
       "                                              criterion='gini', max_depth=None,\n",
       "                                              max_features=None,\n",
       "                                              max_leaf_nodes=None,\n",
       "                                              min_impurity_decrease=0.0,\n",
       "                                              min_impurity_split=None,\n",
       "                                              min_samples_leaf=1,\n",
       "                                              min_samples_split=2,\n",
       "                                              min_weight_fraction_leaf=0.0,\n",
       "                                              presort='deprecated',\n",
       "                                              random_state=42,\n",
       "                                              splitter='best'),\n",
       "             iid='deprecated', n_jobs=None,\n",
       "             param_grid={'max_leaf_nodes': [2, 3, 4, 5, 6, 7, 8, 9, 10, 11, 12,\n",
       "                                            13, 14, 15, 16, 17, 18, 19, 20, 21,\n",
       "                                            22, 23, 24, 25, 26, 27, 28, 29, 30,\n",
       "                                            31, ...],\n",
       "                         'min_samples_split': [2, 3, 4]},\n",
       "             pre_dispatch='2*n_jobs', refit=True, return_train_score=False,\n",
       "             scoring=None, verbose=1)"
      ]
     },
     "execution_count": 4,
     "metadata": {},
     "output_type": "execute_result"
    }
   ],
   "source": [
    "from sklearn.tree import DecisionTreeClassifier\n",
    "from sklearn.model_selection import GridSearchCV\n",
    "\n",
    "\n"
   ]
  },
  {
   "cell_type": "code",
   "execution_count": 5,
   "metadata": {},
   "outputs": [
    {
     "data": {
      "text/plain": [
       "DecisionTreeClassifier(ccp_alpha=0.0, class_weight=None, criterion='gini',\n",
       "                       max_depth=None, max_features=None, max_leaf_nodes=17,\n",
       "                       min_impurity_decrease=0.0, min_impurity_split=None,\n",
       "                       min_samples_leaf=1, min_samples_split=2,\n",
       "                       min_weight_fraction_leaf=0.0, presort='deprecated',\n",
       "                       random_state=42, splitter='best')"
      ]
     },
     "execution_count": 5,
     "metadata": {},
     "output_type": "execute_result"
    }
   ],
   "source": [
    "grid_search_cv.best_estimator_"
   ]
  },
  {
   "cell_type": "markdown",
   "metadata": {},
   "source": [
    "## 테스트 세트에서 성능을 측정"
   ]
  },
  {
   "cell_type": "code",
   "execution_count": 6,
   "metadata": {},
   "outputs": [
    {
     "data": {
      "text/plain": [
       "0.8695"
      ]
     },
     "execution_count": 6,
     "metadata": {},
     "output_type": "execute_result"
    }
   ],
   "source": [
    "from sklearn.metrics import accuracy_score\n",
    "\n"
   ]
  },
  {
   "cell_type": "code",
   "execution_count": null,
   "metadata": {},
   "outputs": [],
   "source": []
  }
 ],
 "metadata": {
  "kernelspec": {
   "display_name": "Python 3",
   "language": "python",
   "name": "python3"
  },
  "language_info": {
   "codemirror_mode": {
    "name": "ipython",
    "version": 3
   },
   "file_extension": ".py",
   "mimetype": "text/x-python",
   "name": "python",
   "nbconvert_exporter": "python",
   "pygments_lexer": "ipython3",
   "version": "3.7.6"
  },
  "nav_menu": {
   "height": "309px",
   "width": "468px"
  },
  "toc": {
   "base_numbering": 1,
   "nav_menu": {},
   "number_sections": true,
   "sideBar": true,
   "skip_h1_title": false,
   "title_cell": "Table of Contents",
   "title_sidebar": "Contents",
   "toc_cell": false,
   "toc_position": {},
   "toc_section_display": "block",
   "toc_window_display": false
  },
  "varInspector": {
   "cols": {
    "lenName": 16,
    "lenType": 16,
    "lenVar": 40
   },
   "kernels_config": {
    "python": {
     "delete_cmd_postfix": "",
     "delete_cmd_prefix": "del ",
     "library": "var_list.py",
     "varRefreshCmd": "print(var_dic_list())"
    },
    "r": {
     "delete_cmd_postfix": ") ",
     "delete_cmd_prefix": "rm(",
     "library": "var_list.r",
     "varRefreshCmd": "cat(var_dic_list()) "
    }
   },
   "types_to_exclude": [
    "module",
    "function",
    "builtin_function_or_method",
    "instance",
    "_Feature"
   ],
   "window_display": false
  }
 },
 "nbformat": 4,
 "nbformat_minor": 1
}
